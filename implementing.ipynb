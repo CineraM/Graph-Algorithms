{
 "cells": [
  {
   "cell_type": "code",
   "execution_count": 2,
   "metadata": {},
   "outputs": [],
   "source": [
    "import pandas as pd\n",
    "import numpy as np\n",
    "import sys\n",
    "\n",
    "file_path = 'imdb_network.csv'\n",
    "\n",
    "# df = pd.DataFrame(new_data, columns=column_names)\n",
    "# df.set_index('tconst', inplace=True)\n",
    "# df.to_csv('imdb_years_df.csv', sep=',')"
   ]
  },
  {
   "cell_type": "code",
   "execution_count": 3,
   "metadata": {},
   "outputs": [],
   "source": [
    "# file headers\n",
    "# tconst,nconst,primaryTitle,primaryName,primaryProfession\n",
    "class TitleDictionary:\n",
    "\n",
    "    def __init__(self, csv_path):\n",
    "        self.df = pd.read_csv(csv_path)\n",
    "        self.title_dict = self._create_title_dict()\n",
    "        self.profession_dict = self._create_profession_dict()\n",
    "\n",
    "    def _create_title_dict(self):\n",
    "        title_dict = {}\n",
    "        data = self.df.values.tolist()\n",
    "\n",
    "        for entry in data:\n",
    "            title = entry[2]\n",
    "            if entry[1] in title_dict:\n",
    "                title_dict[entry[1]].append(title)\n",
    "            else:\n",
    "                title_dict[entry[1]] = [title]\n",
    "\n",
    "        # print(title_dict['nm6081065']) # debug\n",
    "        return title_dict \n",
    "\n",
    "    def _create_profession_dict(self):\n",
    "        profession_dict = {}\n",
    "        data = self.df.values.tolist()\n",
    "\n",
    "        for entry in data:\n",
    "            if entry[1] not in profession_dict:\n",
    "                profession = entry[3]\n",
    "                if entry[4] == 'actor':\n",
    "                    profession+='_a'\n",
    "                else:\n",
    "                    profession+='_d'\n",
    "\n",
    "                profession_dict[entry[1]] = profession\n",
    "\n",
    "        # print(profession_dict['nm6446679']) # debug\n",
    "        return profession_dict\n",
    "\n",
    "file_path = 'imdb_network.csv'\n",
    "test = TitleDictionary(file_path)"
   ]
  },
  {
   "cell_type": "code",
   "execution_count": 9,
   "metadata": {},
   "outputs": [
    {
     "name": "stdout",
     "output_type": "stream",
     "text": [
      "['White as Snow', 'Noose of Ice', 'Point 783', 'Seek and Destroy', 'The Launching']\n"
     ]
    }
   ],
   "source": [
    "td = TitleDictionary('imdb_network.csv')\n",
    "nconst_title = td.title_dict\n",
    "nconst_ar_dr = td.profession_dict\n",
    "\n",
    "print(nconst_title[\"nm4655646\"])"
   ]
  },
  {
   "cell_type": "code",
   "execution_count": 11,
   "metadata": {},
   "outputs": [],
   "source": [
    "#Graph Network Creation\n",
    "'''\n",
    "adj list\n",
    "when adding edges\n",
    "    if less than 2 movies in common, dont add the edge\n",
    "    if actor->director, reverse the edge to director_actor\n",
    "    if actor->actor, edge is bidirectional, so add the same edge for the actor\n",
    "\n",
    "create graph is going to be a dict{dicts{}}, map of maps\n",
    "\n",
    "add node\n",
    "'''\n",
    "class MovieNetwork:\n",
    "    def __init__(self, name_movie_dict, nconst_ar_dr):\n",
    "        self.graph = {} \n",
    "        self.name_movie_dict = name_movie_dict \n",
    "        self.nconst_ar_dr = nconst_ar_dr \n",
    "        \n",
    "    def add_node(self, node):\n",
    "        self.graph[node] = {}\n",
    "\n",
    "    def edge_bi(self, node1, node2, weigh):\n",
    "        if node1 not in self.graph: self.add_node(node1)\n",
    "        if node2 not in self.graph: self.add_node(node2)\n",
    "\n",
    "        if node2 not in self.graph[node1]:\n",
    "            self.graph[node1][node2] = weigh\n",
    "\n",
    "        if node1 not in self.graph[node2]:\n",
    "            self.graph[node2][node1] = weigh\n",
    "\n",
    "    def edge_single(self, node1, node2, weigh):\n",
    "        if node1 not in self.graph: self.add_node(node1)\n",
    "        if node2 not in self.graph: self.add_node(node2)\n",
    "        \n",
    "        if node2 not in self.graph[node1]:\n",
    "            self.graph[node1][node2] = weigh\n",
    "\n",
    "    # nconst_ar_dr, weight=1\n",
    "    # old parameters, not needed\n",
    "    def add_edge(self, node1, node2):\n",
    "        node1_movies = self.name_movie_dict[node1]\n",
    "        node2_movies = self.name_movie_dict[node2]\n",
    "\n",
    "        empty_set = set()\n",
    "        # checking movies in common\n",
    "        for movie in node1_movies:\n",
    "            if movie in node2_movies:\n",
    "                # weight+=1\n",
    "                empty_set.add(movie)\n",
    "        \n",
    "        weight = len(empty_set)\n",
    "                \n",
    "        # only proceed if weights are more than 2\n",
    "        if weight > 2:\n",
    "            node1_ar_dr = self.nconst_ar_dr[node1]\n",
    "            node1_profession = node1_ar_dr[len(node1_ar_dr)-1:]\n",
    "\n",
    "            node2_ar_dr = self.nconst_ar_dr[node2]\n",
    "            node2_profession = node2_ar_dr[len(node2_ar_dr)-1:]\n",
    "\n",
    "            if node1_profession == node2_profession:\n",
    "                self.edge_bi(node1, node2, weight)\n",
    "            if node1_profession == \"a\" and node2_profession == \"d\":\n",
    "                self.edge_single(node2, node1, weight)\n",
    "            if node1_profession == \"d\" and node2_profession == \"a\":\n",
    "                self.edge_single(node1, node2, weight)\n",
    "\n",
    "    def get_graph(self):\n",
    "        for node1 in self.nconst_ar_dr:\n",
    "            for node2 in self.nconst_ar_dr:\n",
    "                if node1 == node2:\n",
    "                    continue\n",
    "                if node1 not in self.graph: self.add_node(node1)\n",
    "                if node2 not in self.graph: self.add_node(node2)\n",
    "                self.add_edge(node1, node2)\n",
    "        \n",
    "        return self.graph"
   ]
  },
  {
   "cell_type": "code",
   "execution_count": 12,
   "metadata": {},
   "outputs": [],
   "source": [
    "td = TitleDictionary('imdb_network.csv')\n",
    "nconst_title = td.title_dict\n",
    "nconst_ar_dr = td.profession_dict\n",
    "\n",
    "# print(nconst_title['nm1662883'])\n",
    "\n",
    "movie_network = MovieNetwork(nconst_title, nconst_ar_dr)\n",
    "\n",
    "graph = movie_network.get_graph()"
   ]
  },
  {
   "cell_type": "code",
   "execution_count": 13,
   "metadata": {},
   "outputs": [
    {
     "name": "stdout",
     "output_type": "stream",
     "text": [
      "{'nm8706223': 5}\n"
     ]
    }
   ],
   "source": [
    "print(graph['nm4655646'])"
   ]
  },
  {
   "cell_type": "code",
   "execution_count": 9,
   "metadata": {},
   "outputs": [
    {
     "name": "stdout",
     "output_type": "stream",
     "text": [
      "d\n"
     ]
    }
   ],
   "source": [
    "# testing code \n",
    "# print(18871 + 15753)\n",
    "\n",
    "s = 'Benjamin H. Kline_d'\n",
    "\n",
    "print(s[len(s)-1:])\n",
    "\n",
    "\n",
    "\n",
    "# file_path = 'imdb_network.csv'\n",
    "# data = pd.read_csv(file_path)\n",
    "# data = data.values.tolist()\n",
    "\n",
    "# print(len(data))\n",
    "\n",
    "# for i in data:\n",
    "#     print(i)"
   ]
  }
 ],
 "metadata": {
  "kernelspec": {
   "display_name": "Python 3",
   "language": "python",
   "name": "python3"
  },
  "language_info": {
   "codemirror_mode": {
    "name": "ipython",
    "version": 3
   },
   "file_extension": ".py",
   "mimetype": "text/x-python",
   "name": "python",
   "nbconvert_exporter": "python",
   "pygments_lexer": "ipython3",
   "version": "3.10.6"
  },
  "orig_nbformat": 4
 },
 "nbformat": 4,
 "nbformat_minor": 2
}
