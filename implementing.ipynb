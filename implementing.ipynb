{
 "cells": [
  {
   "cell_type": "code",
   "execution_count": 5,
   "metadata": {},
   "outputs": [],
   "source": [
    "import pandas as pd\n",
    "import numpy as np\n",
    "import sys\n",
    "\n",
    "# df = pd.DataFrame(new_data, columns=column_names)\n",
    "# df.set_index('tconst', inplace=True)\n",
    "# df.to_csv('imdb_years_df.csv', sep=',')"
   ]
  },
  {
   "cell_type": "code",
   "execution_count": 11,
   "metadata": {},
   "outputs": [],
   "source": [
    "file_path = 'imdb_network.csv'\n",
    "data = pd.read_csv(file_path)\n",
    "data = data.values.tolist()\n",
    "\n",
    "# print(len(data))\n",
    "\n",
    "# for i in data:\n",
    "#     print(i)"
   ]
  },
  {
   "cell_type": "code",
   "execution_count": null,
   "metadata": {},
   "outputs": [],
   "source": [
    "class TitleDictionary:\n",
    "\n",
    "    def __init__(self, csv_path):\n",
    "        self.df = pd.read_csv(csv_path)\n",
    "        self.title_dict = self._create_title_dict()\n",
    "        self.profession_dict = self._create_profession_dict()\n",
    "\n",
    "    def _create_title_dict(self):\n",
    "\n",
    "        title_dict = {}\n",
    "\n",
    "        return title_dict \n",
    "\n",
    "    def _create_profession_dict(self):\n",
    "\n",
    "        profession_dict = {}\n",
    "\n",
    "        return profession_dict\n"
   ]
  }
 ],
 "metadata": {
  "kernelspec": {
   "display_name": "Python 3",
   "language": "python",
   "name": "python3"
  },
  "language_info": {
   "codemirror_mode": {
    "name": "ipython",
    "version": 3
   },
   "file_extension": ".py",
   "mimetype": "text/x-python",
   "name": "python",
   "nbconvert_exporter": "python",
   "pygments_lexer": "ipython3",
   "version": "3.11.2"
  },
  "orig_nbformat": 4
 },
 "nbformat": 4,
 "nbformat_minor": 2
}
