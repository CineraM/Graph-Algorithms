{
 "cells": [
  {
   "cell_type": "code",
   "execution_count": 1,
   "metadata": {},
   "outputs": [],
   "source": [
    "import pandas as pd\n",
    "import numpy as np\n",
    "import sys\n",
    "\n",
    "# df = pd.DataFrame(new_data, columns=column_names)\n",
    "# df.set_index('tconst', inplace=True)\n",
    "# df.to_csv('imdb_years_df.csv', sep=',')"
   ]
  },
  {
   "cell_type": "code",
   "execution_count": 28,
   "metadata": {},
   "outputs": [
    {
     "name": "stdout",
     "output_type": "stream",
     "text": [
      "Bob Wehling_a\n"
     ]
    }
   ],
   "source": [
    "# file headers\n",
    "# tconst,nconst,primaryTitle,primaryName,primaryProfession\n",
    "class TitleDictionary:\n",
    "\n",
    "    def __init__(self, csv_path):\n",
    "        self.df = pd.read_csv(csv_path)\n",
    "        self.title_dict = self._create_title_dict()\n",
    "        self.profession_dict = self._create_profession_dict()\n",
    "\n",
    "    def _create_title_dict(self):\n",
    "        title_dict = {}\n",
    "        data = self.df.values.tolist()\n",
    "\n",
    "        for entry in data:\n",
    "            if entry[1] in title_dict:\n",
    "                title_dict[entry[1]].append(entry[2])\n",
    "            else:\n",
    "                title_dict[entry[1]] = [entry[2]]\n",
    "\n",
    "        # print(title_dict['nm6551690']) # debug\n",
    "        return title_dict \n",
    "\n",
    "    def _create_profession_dict(self):\n",
    "        profession_dict = {}\n",
    "        data = self.df.values.tolist()\n",
    "\n",
    "        for entry in data:\n",
    "            if entry[1] not in profession_dict:\n",
    "                profession = entry[3]\n",
    "                if entry[4] == 'actor':\n",
    "                    profession+='_a'\n",
    "                else:\n",
    "                    profession+='_d'\n",
    "\n",
    "                profession_dict[entry[1]] = profession\n",
    "\n",
    "        # print(profession_dict['nm6446679']) # debug\n",
    "        return profession_dict\n",
    "\n",
    "file_path = 'imdb_network.csv'\n",
    "test = TitleDictionary(file_path)"
   ]
  },
  {
   "cell_type": "code",
   "execution_count": null,
   "metadata": {},
   "outputs": [],
   "source": [
    "#Graph Network Creation\n",
    "\n",
    "'''\n",
    "adj list\n",
    "when adding edges\n",
    "    if less than 2 movies in common, dont add the edge\n",
    "    if actor->director, reverse the edge to director_actor\n",
    "    if actor->actor, edge is bidirectional, so add the same edge for the actor\n",
    "\n",
    "create graph is going to be a dict{dicts{}}, map of maps\n",
    "\n",
    "add node\n",
    "'''\n",
    "class MovieNetwork:\n",
    "    def __init__(self, name_movie_dict, nconst_ar_dr):\n",
    "        self.graph = {} \n",
    "        self.name_movie_dict = name_movie_dict \n",
    "        self.nconst_ar_dr = nconst_ar_dr \n",
    "\n",
    "    def add_node(self, node):\n",
    "        pass\n",
    "    def add_edge(self, node1, node2, nconst_ar_dr, weight=1):\n",
    "        pass\n",
    "    def create_graph(self):\n",
    "\n",
    "        return graph"
   ]
  },
  {
   "cell_type": "code",
   "execution_count": 11,
   "metadata": {},
   "outputs": [
    {
     "name": "stdout",
     "output_type": "stream",
     "text": [
      "34624\n"
     ]
    }
   ],
   "source": [
    "# testing code \n",
    "print(18871 + 15753)\n",
    "# file_path = 'imdb_network.csv'\n",
    "# data = pd.read_csv(file_path)\n",
    "# data = data.values.tolist()\n",
    "\n",
    "# print(len(data))\n",
    "\n",
    "# for i in data:\n",
    "#     print(i)"
   ]
  }
 ],
 "metadata": {
  "kernelspec": {
   "display_name": "Python 3",
   "language": "python",
   "name": "python3"
  },
  "language_info": {
   "codemirror_mode": {
    "name": "ipython",
    "version": 3
   },
   "file_extension": ".py",
   "mimetype": "text/x-python",
   "name": "python",
   "nbconvert_exporter": "python",
   "pygments_lexer": "ipython3",
   "version": "3.10.6"
  },
  "orig_nbformat": 4
 },
 "nbformat": 4,
 "nbformat_minor": 2
}
