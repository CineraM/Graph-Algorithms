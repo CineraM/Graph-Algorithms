{
 "cells": [
  {
   "cell_type": "code",
   "execution_count": 1,
   "metadata": {},
   "outputs": [],
   "source": [
    "import pandas as pd\n",
    "import numpy as np\n",
    "import sys\n",
    "\n",
    "file_path = 'imdb_network.csv'\n",
    "\n",
    "# df = pd.DataFrame(new_data, columns=column_names)\n",
    "# df.set_index('tconst', inplace=True)\n",
    "# df.to_csv('imdb_years_df.csv', sep=',')"
   ]
  },
  {
   "cell_type": "code",
   "execution_count": 2,
   "metadata": {},
   "outputs": [],
   "source": [
    "# file headers\n",
    "# tconst,nconst,primaryTitle,primaryName,primaryProfession\n",
    "class TitleDictionary:\n",
    "\n",
    "    def __init__(self, csv_path):\n",
    "        self.df = pd.read_csv(csv_path)\n",
    "        self.title_dict = self._create_title_dict()\n",
    "        self.profession_dict = self._create_profession_dict()\n",
    "\n",
    "    def _create_title_dict(self):\n",
    "        title_dict = {}\n",
    "        data = self.df.values.tolist()\n",
    "\n",
    "        for entry in data:\n",
    "            title = entry[2]\n",
    "            if entry[1] in title_dict:\n",
    "                title_dict[entry[1]].append(title)\n",
    "            else:\n",
    "                title_dict[entry[1]] = [title]\n",
    "\n",
    "        # print(title_dict['nm6081065']) # debug\n",
    "        return title_dict \n",
    "\n",
    "    def _create_profession_dict(self):\n",
    "        profession_dict = {}\n",
    "        data = self.df.values.tolist()\n",
    "\n",
    "        for entry in data:\n",
    "            if entry[1] not in profession_dict:\n",
    "                profession = entry[3]\n",
    "                if entry[4] == 'actor':\n",
    "                    profession+='_a'\n",
    "                else:\n",
    "                    profession+='_d'\n",
    "\n",
    "                profession_dict[entry[1]] = profession\n",
    "\n",
    "        # print(profession_dict['nm6446679']) # debug\n",
    "        return profession_dict\n",
    "\n",
    "file_path = 'imdb_network.csv'\n",
    "test = TitleDictionary(file_path)"
   ]
  },
  {
   "cell_type": "code",
   "execution_count": 3,
   "metadata": {},
   "outputs": [
    {
     "name": "stdout",
     "output_type": "stream",
     "text": [
      "['White as Snow', 'Noose of Ice', 'Point 783', 'Seek and Destroy', 'The Launching']\n"
     ]
    }
   ],
   "source": [
    "td = TitleDictionary('imdb_network.csv')\n",
    "nconst_title = td.title_dict\n",
    "nconst_ar_dr = td.profession_dict\n",
    "\n",
    "print(nconst_title[\"nm4655646\"])"
   ]
  },
  {
   "cell_type": "code",
   "execution_count": 4,
   "metadata": {},
   "outputs": [],
   "source": [
    "#Graph Network Creation\n",
    "'''\n",
    "adj list\n",
    "when adding edges\n",
    "    if less than 2 movies in common, dont add the edge\n",
    "    if actor->director, reverse the edge to director_actor\n",
    "    if actor->actor, edge is bidirectional, so add the same edge for the actor\n",
    "\n",
    "create graph is going to be a dict{dicts{}}, map of maps\n",
    "\n",
    "add node\n",
    "'''\n",
    "class MovieNetwork:\n",
    "    def __init__(self, name_movie_dict, nconst_ar_dr):\n",
    "        self.graph = {} \n",
    "        self.name_movie_dict = name_movie_dict \n",
    "        self.nconst_ar_dr = nconst_ar_dr \n",
    "        \n",
    "    def add_node(self, node):\n",
    "        self.graph[node] = {}\n",
    "\n",
    "    def edge_bi(self, node1, node2, weigh):\n",
    "        if node1 not in self.graph: self.add_node(node1)\n",
    "        if node2 not in self.graph: self.add_node(node2)\n",
    "\n",
    "        if node2 not in self.graph[node1]:\n",
    "            self.graph[node1][node2] = weigh\n",
    "\n",
    "        if node1 not in self.graph[node2]:\n",
    "            self.graph[node2][node1] = weigh\n",
    "\n",
    "    def edge_single(self, node1, node2, weigh):\n",
    "        if node1 not in self.graph: self.add_node(node1)\n",
    "        if node2 not in self.graph: self.add_node(node2)\n",
    "        \n",
    "        if node2 not in self.graph[node1]:\n",
    "            self.graph[node1][node2] = weigh\n",
    "\n",
    "    # nconst_ar_dr, weight=1\n",
    "    # old parameters, not needed\n",
    "    def add_edge(self, node1, node2):\n",
    "        node1_movies = self.name_movie_dict[node1]\n",
    "        node2_movies = self.name_movie_dict[node2]\n",
    "\n",
    "        empty_set = set()\n",
    "        # checking movies in common\n",
    "        for movie in node1_movies:\n",
    "            if movie in node2_movies:\n",
    "                # weight+=1\n",
    "                empty_set.add(movie)\n",
    "        \n",
    "        weight = len(empty_set)\n",
    "                \n",
    "        # only proceed if weights are more than 2\n",
    "        if weight > 2:\n",
    "            node1_ar_dr = self.nconst_ar_dr[node1]\n",
    "            node1_profession = node1_ar_dr[len(node1_ar_dr)-1:]\n",
    "\n",
    "            node2_ar_dr = self.nconst_ar_dr[node2]\n",
    "            node2_profession = node2_ar_dr[len(node2_ar_dr)-1:]\n",
    "\n",
    "            if node1_profession == node2_profession:\n",
    "                self.edge_bi(node1, node2, weight)\n",
    "            if node1_profession == \"a\" and node2_profession == \"d\":\n",
    "                self.edge_single(node2, node1, weight)\n",
    "            if node1_profession == \"d\" and node2_profession == \"a\":\n",
    "                self.edge_single(node1, node2, weight)\n",
    "\n",
    "    def get_graph(self):\n",
    "        for node1 in self.nconst_ar_dr:\n",
    "            for node2 in self.nconst_ar_dr:\n",
    "                if node1 == node2:\n",
    "                    continue\n",
    "                if node1 not in self.graph: self.add_node(node1)\n",
    "                if node2 not in self.graph: self.add_node(node2)\n",
    "                self.add_edge(node1, node2)\n",
    "        \n",
    "        return self.graph"
   ]
  },
  {
   "cell_type": "code",
   "execution_count": 5,
   "metadata": {},
   "outputs": [],
   "source": [
    "td = TitleDictionary('imdb_network.csv')\n",
    "nconst_title = td.title_dict\n",
    "nconst_ar_dr = td.profession_dict\n",
    "\n",
    "# print(nconst_title['nm1662883'])\n",
    "\n",
    "movie_network = MovieNetwork(nconst_title, nconst_ar_dr)\n",
    "\n",
    "graph = movie_network.get_graph()"
   ]
  },
  {
   "cell_type": "code",
   "execution_count": 7,
   "metadata": {},
   "outputs": [
    {
     "name": "stdout",
     "output_type": "stream",
     "text": [
      "{'nm8706223': 5}\n"
     ]
    }
   ],
   "source": [
    "print(graph['nm4655646'])"
   ]
  },
  {
   "cell_type": "code",
   "execution_count": null,
   "metadata": {},
   "outputs": [],
   "source": [
    "def bfs_queue_helper(queue, nodes):\n",
    "    for node in nodes: queue.append(node)\n",
    "    return queue\n",
    "\n",
    "def bfs(graph, start_node, search_node=None):\n",
    "    visited = []\n",
    "    path = []\n",
    "    queue = [start_node]\n",
    "\n",
    "    while len(queue) > 0:\n",
    "        cur_node = queue.pop(0)\n",
    "        if cur_node not in visited:\n",
    "            visited.append(cur_node)\n",
    "            queue = bfs_queue_helper(queue, graph[cur_node])\n",
    "            path.append(cur_node)\n",
    "\n",
    "        if  search_node == cur_node:\n",
    "            return 1  # search node found\n",
    "\n",
    "    if search_node is not None:\n",
    "        return 0  # search node not found\n",
    "\n",
    "    return path "
   ]
  },
  {
   "cell_type": "code",
   "execution_count": 28,
   "metadata": {},
   "outputs": [
    {
     "data": {
      "text/plain": [
       "1"
      ]
     },
     "execution_count": 28,
     "metadata": {},
     "output_type": "execute_result"
    }
   ],
   "source": [
    "#old dfs\n",
    "# dfs_path = []\n",
    "# dfs_flag = False\n",
    "# def dfs(graph, start_node, search_node=None):\n",
    "#     global dfs_path, dfs_flag\n",
    "#     dfs_path = []\n",
    "#     dfs_flag = False\n",
    "\n",
    "#     dfs_recursion(graph, start_node, search_node)\n",
    "\n",
    "#     if dfs_flag: return 1\n",
    "#     if search_node is not None:\n",
    "#         return 0\n",
    "    \n",
    "#     return dfs_path\n",
    "\n",
    "# def dfs_recursion(graph, cur_node, search_node):\n",
    "#     global dfs_path, dfs_flag\n",
    "\n",
    "#     if dfs_flag: return # search node found\n",
    "#     if search_node == cur_node: # search node found, exit out of all dfs\n",
    "#         dfs_flag = True\n",
    "\n",
    "#     if cur_node not in dfs_path:\n",
    "#         dfs_path.append(cur_node)\n",
    "#     else:\n",
    "#         return\n",
    "\n",
    "#     for node in graph[cur_node]:\n",
    "#         dfs_recursion(graph, node, search_node)\n",
    "\n",
    "# better codded dfs\n",
    "discovered = []\n",
    "dfs_flag = False\n",
    "# discovered = path\n",
    "def dfs(graph, start_node, search_node=None):\n",
    "    global discovered, dfs_flag\n",
    "    discovered = [start_node]\n",
    "    dfs_flag = False\n",
    "\n",
    "    for key in graph[start_node]:\n",
    "        if key not in discovered:\n",
    "            dfs_recursion(graph, start_node, search_node)\n",
    "\n",
    "    if dfs_flag: return 1\n",
    "    if search_node is not None: return 0\n",
    "    \n",
    "    return discovered\n",
    "\n",
    "def dfs_recursion(graph, cur_node, search_node):\n",
    "    global discovered, dfs_flag\n",
    "    if dfs_flag: return         # search node found\n",
    "    if search_node == cur_node: # search node found, exit out of all dfs\n",
    "        dfs_flag = True\n",
    "\n",
    "    discovered.append(cur_node)\n",
    "    for node in graph[cur_node]:\n",
    "        if node not in discovered:\n",
    "            dfs_recursion(graph, node, search_node)\n",
    "\n",
    "dfs(graph, \"nm5822910\", search_node=\"nm5665539\")"
   ]
  },
  {
   "cell_type": "code",
   "execution_count": 24,
   "metadata": {},
   "outputs": [
    {
     "name": "stdout",
     "output_type": "stream",
     "text": [
      "{'nm1118718': 5}\n",
      "{'nm4556923': 3, 'nm9937946': 3, 'nm5665539': 3, 'nm5822910': 5}\n"
     ]
    }
   ],
   "source": [
    "print(graph['nm5822910'])\n",
    "print(graph['nm1118718'])"
   ]
  },
  {
   "cell_type": "code",
   "execution_count": null,
   "metadata": {},
   "outputs": [],
   "source": [
    "def dijkstra(graph, start_node, end_node):    \n",
    "    return"
   ]
  },
  {
   "cell_type": "code",
   "execution_count": 9,
   "metadata": {},
   "outputs": [
    {
     "data": {
      "text/plain": [
       "53"
      ]
     },
     "execution_count": 9,
     "metadata": {},
     "output_type": "execute_result"
    }
   ],
   "source": [
    "# kosaraju - kosaraju - kosaraju - kosaraju - kosaraju - kosaraju - kosaraju - kosaraju\n",
    "discovered = []\n",
    "def scc_dfs(graph):\n",
    "    global discovered\n",
    "    discovered = []\n",
    "    for key in graph:\n",
    "        if key not in discovered:\n",
    "            scc_dfs_recursion(graph, key)\n",
    "    return discovered\n",
    "\n",
    "def scc_dfs_recursion(graph, cur_node):\n",
    "    global discovered\n",
    "    discovered.append(cur_node) # discovered\n",
    "    for node in graph[cur_node]:\n",
    "        if node not in discovered:\n",
    "            scc_dfs_recursion(graph, node)\n",
    "\n",
    "###### second pass################\n",
    "cur_components = []\n",
    "def scc_second(graph, stack):\n",
    "    global discovered, cur_components\n",
    "    discovered = []\n",
    "    components = []\n",
    "    count = 0\n",
    "    for key in stack:\n",
    "        if key not in discovered:\n",
    "            count+=1\n",
    "            if len(cur_components) > 0:\n",
    "                components.append(cur_components)\n",
    "                cur_components = []\n",
    "            second_recursion(graph, key)\n",
    "    if len(cur_components) > 0:\n",
    "        if cur_components not in components:\n",
    "            components.append(cur_components)\n",
    "\n",
    "    return components\n",
    "\n",
    "def second_recursion(graph, cur_node):\n",
    "    global discovered, cur_components\n",
    "\n",
    "    discovered.append(cur_node)\n",
    "    cur_components.append(cur_node)\n",
    "\n",
    "    for node in graph[cur_node]:\n",
    "        if node not in discovered:\n",
    "            second_recursion(graph, node)\n",
    "\n",
    "\n",
    "def graph_transpose(graph):\n",
    "    transpose = {}\n",
    "    for key in graph: transpose[key] = {}\n",
    "    \n",
    "    for node in graph:\n",
    "        for key in graph[node]:\n",
    "            transpose[key][node] = graph[node][key]\n",
    "            \n",
    "    return transpose\n",
    "\n",
    "def kosaraju(graph):\n",
    "    stack = scc_dfs(graph)\n",
    "    transpose = graph_transpose(graph)\n",
    "    components = scc_second(transpose, stack)\n",
    "    return components\n",
    "\n",
    "len(kosaraju(graph))\n",
    "# print(kosaraju(graph))"
   ]
  },
  {
   "cell_type": "code",
   "execution_count": 103,
   "metadata": {},
   "outputs": [
    {
     "name": "stdout",
     "output_type": "stream",
     "text": [
      "4308 4308\n"
     ]
    }
   ],
   "source": [
    "count = 0\n",
    "for node in graph:\n",
    "    count+=len(graph[node])\n",
    "        \n",
    "transpose = graph_transpose(graph)\n",
    "\n",
    "count2=0\n",
    "for node in transpose:\n",
    "    count2+=len(transpose[node])\n",
    "\n",
    "print(count, count2)\n",
    "    "
   ]
  },
  {
   "cell_type": "code",
   "execution_count": 15,
   "metadata": {},
   "outputs": [
    {
     "name": "stdout",
     "output_type": "stream",
     "text": [
      "[2, 3, 4, 5]\n"
     ]
    }
   ],
   "source": [
    "# testing code \n",
    "# print(18871 + 15753)\n",
    "\n",
    "s = 'Benjamin H. Kline_d'\n",
    "\n",
    "print(s[len(s)-1:])\n",
    "\n",
    "# file_path = 'imdb_network.csv'\n",
    "# data = pd.read_csv(file_path)\n",
    "# data = data.values.tolist()\n",
    "\n",
    "# print(len(data))\n",
    "\n",
    "# for i in data:\n",
    "#     print(i)\n",
    "\n",
    "stack = [1, 2, 3, 4, 5]\n",
    "\n",
    "stack.pop(0)\n",
    "\n",
    "print(stack)\n",
    "\n"
   ]
  }
 ],
 "metadata": {
  "kernelspec": {
   "display_name": "Python 3",
   "language": "python",
   "name": "python3"
  },
  "language_info": {
   "codemirror_mode": {
    "name": "ipython",
    "version": 3
   },
   "file_extension": ".py",
   "mimetype": "text/x-python",
   "name": "python",
   "nbconvert_exporter": "python",
   "pygments_lexer": "ipython3",
   "version": "3.11.2"
  },
  "orig_nbformat": 4
 },
 "nbformat": 4,
 "nbformat_minor": 2
}
